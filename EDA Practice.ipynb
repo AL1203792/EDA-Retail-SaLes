{
 "cells": [
  {
   "cell_type": "markdown",
   "id": "d3debaa8-eb40-406c-b68c-f9cdbb71af9f",
   "metadata": {},
   "source": [
    "# Exploratory Data Analysis"
   ]
  },
  {
   "cell_type": "markdown",
   "id": "23f7bb36-8f74-49d2-a30e-321829624f0b",
   "metadata": {},
   "source": [
    "## We will be playing around with Retail sales Dataset and explore the following questions\n",
    "- How does customer age and gender influence their purchasing behavior?\n",
    "- Which product categories hold the highest appeal among customers?\n",
    "- What are the relationships between age and spending\n",
    "- What insights can be gleaned from the distribution of product prices within each category?"
   ]
  },
  {
   "cell_type": "code",
   "execution_count": 7,
   "id": "1d515d1e-9ec0-47cd-ab07-e3c23ec5a839",
   "metadata": {},
   "outputs": [
    {
     "name": "stdout",
     "output_type": "stream",
     "text": [
      "Requirement already satisfied: pandas in c:\\users\\aryan\\anaconda3\\lib\\site-packages (2.2.2)\n",
      "Requirement already satisfied: numpy>=1.26.0 in c:\\users\\aryan\\anaconda3\\lib\\site-packages (from pandas) (1.26.4)\n",
      "Requirement already satisfied: python-dateutil>=2.8.2 in c:\\users\\aryan\\anaconda3\\lib\\site-packages (from pandas) (2.9.0.post0)\n",
      "Requirement already satisfied: pytz>=2020.1 in c:\\users\\aryan\\anaconda3\\lib\\site-packages (from pandas) (2024.1)\n",
      "Requirement already satisfied: tzdata>=2022.7 in c:\\users\\aryan\\anaconda3\\lib\\site-packages (from pandas) (2023.3)\n",
      "Requirement already satisfied: six>=1.5 in c:\\users\\aryan\\anaconda3\\lib\\site-packages (from python-dateutil>=2.8.2->pandas) (1.16.0)\n"
     ]
    }
   ],
   "source": [
    "!pip install pandas"
   ]
  },
  {
   "cell_type": "code",
   "execution_count": 8,
   "id": "fac29c9b-6d6e-43ec-85d4-b4f82e6a2377",
   "metadata": {},
   "outputs": [
    {
     "name": "stdout",
     "output_type": "stream",
     "text": [
      "Requirement already satisfied: pandas in c:\\users\\aryan\\anaconda3\\lib\\site-packages (2.2.2)\n",
      "Requirement already satisfied: numpy>=1.26.0 in c:\\users\\aryan\\anaconda3\\lib\\site-packages (from pandas) (1.26.4)\n",
      "Requirement already satisfied: python-dateutil>=2.8.2 in c:\\users\\aryan\\anaconda3\\lib\\site-packages (from pandas) (2.9.0.post0)\n",
      "Requirement already satisfied: pytz>=2020.1 in c:\\users\\aryan\\anaconda3\\lib\\site-packages (from pandas) (2024.1)\n",
      "Requirement already satisfied: tzdata>=2022.7 in c:\\users\\aryan\\anaconda3\\lib\\site-packages (from pandas) (2023.3)\n",
      "Requirement already satisfied: six>=1.5 in c:\\users\\aryan\\anaconda3\\lib\\site-packages (from python-dateutil>=2.8.2->pandas) (1.16.0)\n"
     ]
    }
   ],
   "source": [
    "!pip install pandas"
   ]
  },
  {
   "cell_type": "code",
   "execution_count": 9,
   "id": "d2f7e9c8-e386-4372-901e-2e0201d0e884",
   "metadata": {},
   "outputs": [
    {
     "name": "stdout",
     "output_type": "stream",
     "text": [
      "Requirement already satisfied: matplotlib in c:\\users\\aryan\\anaconda3\\lib\\site-packages (3.9.2)\n",
      "Requirement already satisfied: contourpy>=1.0.1 in c:\\users\\aryan\\anaconda3\\lib\\site-packages (from matplotlib) (1.2.0)\n",
      "Requirement already satisfied: cycler>=0.10 in c:\\users\\aryan\\anaconda3\\lib\\site-packages (from matplotlib) (0.11.0)\n",
      "Requirement already satisfied: fonttools>=4.22.0 in c:\\users\\aryan\\anaconda3\\lib\\site-packages (from matplotlib) (4.51.0)\n",
      "Requirement already satisfied: kiwisolver>=1.3.1 in c:\\users\\aryan\\anaconda3\\lib\\site-packages (from matplotlib) (1.4.4)\n",
      "Requirement already satisfied: numpy>=1.23 in c:\\users\\aryan\\anaconda3\\lib\\site-packages (from matplotlib) (1.26.4)\n",
      "Requirement already satisfied: packaging>=20.0 in c:\\users\\aryan\\anaconda3\\lib\\site-packages (from matplotlib) (24.1)\n",
      "Requirement already satisfied: pillow>=8 in c:\\users\\aryan\\anaconda3\\lib\\site-packages (from matplotlib) (10.4.0)\n",
      "Requirement already satisfied: pyparsing>=2.3.1 in c:\\users\\aryan\\anaconda3\\lib\\site-packages (from matplotlib) (3.1.2)\n",
      "Requirement already satisfied: python-dateutil>=2.7 in c:\\users\\aryan\\anaconda3\\lib\\site-packages (from matplotlib) (2.9.0.post0)\n",
      "Requirement already satisfied: six>=1.5 in c:\\users\\aryan\\anaconda3\\lib\\site-packages (from python-dateutil>=2.7->matplotlib) (1.16.0)\n"
     ]
    }
   ],
   "source": [
    "!pip install matplotlib"
   ]
  },
  {
   "cell_type": "markdown",
   "id": "47df206b-efa5-46d7-9d8a-71e31cc0e14d",
   "metadata": {},
   "source": [
    "##### Importing the required libraries in EDA"
   ]
  },
  {
   "cell_type": "code",
   "execution_count": 10,
   "id": "d198533f-ddf0-418b-899a-3d9d52fa7bc5",
   "metadata": {},
   "outputs": [],
   "source": [
    "import matplotlib.pyplot as plt\n",
    "import seaborn as sns\n",
    "import numpy as np\n",
    "import pandas as pd"
   ]
  },
  {
   "cell_type": "markdown",
   "id": "d536b3d3-c0f7-4a4b-8619-8301aa86c8c0",
   "metadata": {},
   "source": [
    "##### Loading Dara into Data Frame"
   ]
  },
  {
   "cell_type": "code",
   "execution_count": 11,
   "id": "6492be7c-9da5-4321-8191-d07e952ba3e4",
   "metadata": {},
   "outputs": [
    {
     "data": {
      "text/html": [
       "<div>\n",
       "<style scoped>\n",
       "    .dataframe tbody tr th:only-of-type {\n",
       "        vertical-align: middle;\n",
       "    }\n",
       "\n",
       "    .dataframe tbody tr th {\n",
       "        vertical-align: top;\n",
       "    }\n",
       "\n",
       "    .dataframe thead th {\n",
       "        text-align: right;\n",
       "    }\n",
       "</style>\n",
       "<table border=\"1\" class=\"dataframe\">\n",
       "  <thead>\n",
       "    <tr style=\"text-align: right;\">\n",
       "      <th></th>\n",
       "      <th>Transaction ID</th>\n",
       "      <th>Date</th>\n",
       "      <th>Customer ID</th>\n",
       "      <th>Gender</th>\n",
       "      <th>Age</th>\n",
       "      <th>Product Category</th>\n",
       "      <th>Quantity</th>\n",
       "      <th>Price per Unit</th>\n",
       "      <th>Total Amount</th>\n",
       "    </tr>\n",
       "  </thead>\n",
       "  <tbody>\n",
       "    <tr>\n",
       "      <th>0</th>\n",
       "      <td>1</td>\n",
       "      <td>2023-11-24</td>\n",
       "      <td>CUST001</td>\n",
       "      <td>Male</td>\n",
       "      <td>34</td>\n",
       "      <td>Beauty</td>\n",
       "      <td>3</td>\n",
       "      <td>50</td>\n",
       "      <td>150</td>\n",
       "    </tr>\n",
       "    <tr>\n",
       "      <th>1</th>\n",
       "      <td>2</td>\n",
       "      <td>2023-02-27</td>\n",
       "      <td>CUST002</td>\n",
       "      <td>Female</td>\n",
       "      <td>26</td>\n",
       "      <td>Clothing</td>\n",
       "      <td>2</td>\n",
       "      <td>500</td>\n",
       "      <td>1000</td>\n",
       "    </tr>\n",
       "    <tr>\n",
       "      <th>2</th>\n",
       "      <td>3</td>\n",
       "      <td>2023-01-13</td>\n",
       "      <td>CUST003</td>\n",
       "      <td>Male</td>\n",
       "      <td>50</td>\n",
       "      <td>Electronics</td>\n",
       "      <td>1</td>\n",
       "      <td>30</td>\n",
       "      <td>30</td>\n",
       "    </tr>\n",
       "    <tr>\n",
       "      <th>3</th>\n",
       "      <td>4</td>\n",
       "      <td>2023-05-21</td>\n",
       "      <td>CUST004</td>\n",
       "      <td>Male</td>\n",
       "      <td>37</td>\n",
       "      <td>Clothing</td>\n",
       "      <td>1</td>\n",
       "      <td>500</td>\n",
       "      <td>500</td>\n",
       "    </tr>\n",
       "    <tr>\n",
       "      <th>4</th>\n",
       "      <td>5</td>\n",
       "      <td>2023-05-06</td>\n",
       "      <td>CUST005</td>\n",
       "      <td>Male</td>\n",
       "      <td>30</td>\n",
       "      <td>Beauty</td>\n",
       "      <td>2</td>\n",
       "      <td>50</td>\n",
       "      <td>100</td>\n",
       "    </tr>\n",
       "  </tbody>\n",
       "</table>\n",
       "</div>"
      ],
      "text/plain": [
       "   Transaction ID        Date Customer ID  Gender  Age Product Category  \\\n",
       "0               1  2023-11-24     CUST001    Male   34           Beauty   \n",
       "1               2  2023-02-27     CUST002  Female   26         Clothing   \n",
       "2               3  2023-01-13     CUST003    Male   50      Electronics   \n",
       "3               4  2023-05-21     CUST004    Male   37         Clothing   \n",
       "4               5  2023-05-06     CUST005    Male   30           Beauty   \n",
       "\n",
       "   Quantity  Price per Unit  Total Amount  \n",
       "0         3              50           150  \n",
       "1         2             500          1000  \n",
       "2         1              30            30  \n",
       "3         1             500           500  \n",
       "4         2              50           100  "
      ]
     },
     "execution_count": 11,
     "metadata": {},
     "output_type": "execute_result"
    }
   ],
   "source": [
    "df = pd.read_csv('retail_sales_dataset.csv')\n",
    "# Look into the inside of the file\n",
    "df.head(5)"
   ]
  },
  {
   "cell_type": "markdown",
   "id": "e55ff0c4-299f-412c-bd2e-9064676aab1d",
   "metadata": {},
   "source": [
    "##### Checking types of data"
   ]
  },
  {
   "cell_type": "code",
   "execution_count": 12,
   "id": "ef05ebe8-c0ce-4365-988d-7bf9f2fd13da",
   "metadata": {},
   "outputs": [
    {
     "data": {
      "text/plain": [
       "Transaction ID       int64\n",
       "Date                object\n",
       "Customer ID         object\n",
       "Gender              object\n",
       "Age                  int64\n",
       "Product Category    object\n",
       "Quantity             int64\n",
       "Price per Unit       int64\n",
       "Total Amount         int64\n",
       "dtype: object"
      ]
     },
     "execution_count": 12,
     "metadata": {},
     "output_type": "execute_result"
    }
   ],
   "source": [
    "df.dtypes"
   ]
  },
  {
   "cell_type": "markdown",
   "id": "67b63105-f7b7-4c21-a637-51af9bebe771",
   "metadata": {},
   "source": [
    "##### Dropping Irrelevant Column"
   ]
  },
  {
   "cell_type": "code",
   "execution_count": 13,
   "id": "b724bcf3-39b7-449c-aab1-68543a59d434",
   "metadata": {},
   "outputs": [],
   "source": [
    "# In this case, there are none"
   ]
  },
  {
   "cell_type": "markdown",
   "id": "2566043a-8f36-4f78-a4e9-32d37a27a131",
   "metadata": {},
   "source": [
    "##### Renaming the columns"
   ]
  },
  {
   "cell_type": "code",
   "execution_count": 14,
   "id": "71fd7dd7-d384-4b71-8ad9-4b38d199406e",
   "metadata": {},
   "outputs": [],
   "source": [
    "# No need to rename - Everything good :)"
   ]
  },
  {
   "cell_type": "markdown",
   "id": "2c562414-078f-4295-9bd4-7ed92197d60f",
   "metadata": {},
   "source": [
    "##### Dropping duplicate rows"
   ]
  },
  {
   "cell_type": "code",
   "execution_count": 15,
   "id": "da20a96c-863c-4e88-a69a-da5b758c33d3",
   "metadata": {},
   "outputs": [
    {
     "data": {
      "text/html": [
       "<div>\n",
       "<style scoped>\n",
       "    .dataframe tbody tr th:only-of-type {\n",
       "        vertical-align: middle;\n",
       "    }\n",
       "\n",
       "    .dataframe tbody tr th {\n",
       "        vertical-align: top;\n",
       "    }\n",
       "\n",
       "    .dataframe thead th {\n",
       "        text-align: right;\n",
       "    }\n",
       "</style>\n",
       "<table border=\"1\" class=\"dataframe\">\n",
       "  <thead>\n",
       "    <tr style=\"text-align: right;\">\n",
       "      <th></th>\n",
       "      <th>Transaction ID</th>\n",
       "      <th>Date</th>\n",
       "      <th>Customer ID</th>\n",
       "      <th>Gender</th>\n",
       "      <th>Age</th>\n",
       "      <th>Product Category</th>\n",
       "      <th>Quantity</th>\n",
       "      <th>Price per Unit</th>\n",
       "      <th>Total Amount</th>\n",
       "    </tr>\n",
       "  </thead>\n",
       "  <tbody>\n",
       "    <tr>\n",
       "      <th>0</th>\n",
       "      <td>1</td>\n",
       "      <td>2023-11-24</td>\n",
       "      <td>CUST001</td>\n",
       "      <td>Male</td>\n",
       "      <td>34</td>\n",
       "      <td>Beauty</td>\n",
       "      <td>3</td>\n",
       "      <td>50</td>\n",
       "      <td>150</td>\n",
       "    </tr>\n",
       "    <tr>\n",
       "      <th>1</th>\n",
       "      <td>2</td>\n",
       "      <td>2023-02-27</td>\n",
       "      <td>CUST002</td>\n",
       "      <td>Female</td>\n",
       "      <td>26</td>\n",
       "      <td>Clothing</td>\n",
       "      <td>2</td>\n",
       "      <td>500</td>\n",
       "      <td>1000</td>\n",
       "    </tr>\n",
       "    <tr>\n",
       "      <th>2</th>\n",
       "      <td>3</td>\n",
       "      <td>2023-01-13</td>\n",
       "      <td>CUST003</td>\n",
       "      <td>Male</td>\n",
       "      <td>50</td>\n",
       "      <td>Electronics</td>\n",
       "      <td>1</td>\n",
       "      <td>30</td>\n",
       "      <td>30</td>\n",
       "    </tr>\n",
       "    <tr>\n",
       "      <th>3</th>\n",
       "      <td>4</td>\n",
       "      <td>2023-05-21</td>\n",
       "      <td>CUST004</td>\n",
       "      <td>Male</td>\n",
       "      <td>37</td>\n",
       "      <td>Clothing</td>\n",
       "      <td>1</td>\n",
       "      <td>500</td>\n",
       "      <td>500</td>\n",
       "    </tr>\n",
       "    <tr>\n",
       "      <th>4</th>\n",
       "      <td>5</td>\n",
       "      <td>2023-05-06</td>\n",
       "      <td>CUST005</td>\n",
       "      <td>Male</td>\n",
       "      <td>30</td>\n",
       "      <td>Beauty</td>\n",
       "      <td>2</td>\n",
       "      <td>50</td>\n",
       "      <td>100</td>\n",
       "    </tr>\n",
       "    <tr>\n",
       "      <th>...</th>\n",
       "      <td>...</td>\n",
       "      <td>...</td>\n",
       "      <td>...</td>\n",
       "      <td>...</td>\n",
       "      <td>...</td>\n",
       "      <td>...</td>\n",
       "      <td>...</td>\n",
       "      <td>...</td>\n",
       "      <td>...</td>\n",
       "    </tr>\n",
       "    <tr>\n",
       "      <th>995</th>\n",
       "      <td>996</td>\n",
       "      <td>2023-05-16</td>\n",
       "      <td>CUST996</td>\n",
       "      <td>Male</td>\n",
       "      <td>62</td>\n",
       "      <td>Clothing</td>\n",
       "      <td>1</td>\n",
       "      <td>50</td>\n",
       "      <td>50</td>\n",
       "    </tr>\n",
       "    <tr>\n",
       "      <th>996</th>\n",
       "      <td>997</td>\n",
       "      <td>2023-11-17</td>\n",
       "      <td>CUST997</td>\n",
       "      <td>Male</td>\n",
       "      <td>52</td>\n",
       "      <td>Beauty</td>\n",
       "      <td>3</td>\n",
       "      <td>30</td>\n",
       "      <td>90</td>\n",
       "    </tr>\n",
       "    <tr>\n",
       "      <th>997</th>\n",
       "      <td>998</td>\n",
       "      <td>2023-10-29</td>\n",
       "      <td>CUST998</td>\n",
       "      <td>Female</td>\n",
       "      <td>23</td>\n",
       "      <td>Beauty</td>\n",
       "      <td>4</td>\n",
       "      <td>25</td>\n",
       "      <td>100</td>\n",
       "    </tr>\n",
       "    <tr>\n",
       "      <th>998</th>\n",
       "      <td>999</td>\n",
       "      <td>2023-12-05</td>\n",
       "      <td>CUST999</td>\n",
       "      <td>Female</td>\n",
       "      <td>36</td>\n",
       "      <td>Electronics</td>\n",
       "      <td>3</td>\n",
       "      <td>50</td>\n",
       "      <td>150</td>\n",
       "    </tr>\n",
       "    <tr>\n",
       "      <th>999</th>\n",
       "      <td>1000</td>\n",
       "      <td>2023-04-12</td>\n",
       "      <td>CUST1000</td>\n",
       "      <td>Male</td>\n",
       "      <td>47</td>\n",
       "      <td>Electronics</td>\n",
       "      <td>4</td>\n",
       "      <td>30</td>\n",
       "      <td>120</td>\n",
       "    </tr>\n",
       "  </tbody>\n",
       "</table>\n",
       "<p>1000 rows × 9 columns</p>\n",
       "</div>"
      ],
      "text/plain": [
       "     Transaction ID        Date Customer ID  Gender  Age Product Category  \\\n",
       "0                 1  2023-11-24     CUST001    Male   34           Beauty   \n",
       "1                 2  2023-02-27     CUST002  Female   26         Clothing   \n",
       "2                 3  2023-01-13     CUST003    Male   50      Electronics   \n",
       "3                 4  2023-05-21     CUST004    Male   37         Clothing   \n",
       "4                 5  2023-05-06     CUST005    Male   30           Beauty   \n",
       "..              ...         ...         ...     ...  ...              ...   \n",
       "995             996  2023-05-16     CUST996    Male   62         Clothing   \n",
       "996             997  2023-11-17     CUST997    Male   52           Beauty   \n",
       "997             998  2023-10-29     CUST998  Female   23           Beauty   \n",
       "998             999  2023-12-05     CUST999  Female   36      Electronics   \n",
       "999            1000  2023-04-12    CUST1000    Male   47      Electronics   \n",
       "\n",
       "     Quantity  Price per Unit  Total Amount  \n",
       "0           3              50           150  \n",
       "1           2             500          1000  \n",
       "2           1              30            30  \n",
       "3           1             500           500  \n",
       "4           2              50           100  \n",
       "..        ...             ...           ...  \n",
       "995         1              50            50  \n",
       "996         3              30            90  \n",
       "997         4              25           100  \n",
       "998         3              50           150  \n",
       "999         4              30           120  \n",
       "\n",
       "[1000 rows x 9 columns]"
      ]
     },
     "execution_count": 15,
     "metadata": {},
     "output_type": "execute_result"
    }
   ],
   "source": [
    "df.drop_duplicates(subset=['Customer ID'])"
   ]
  },
  {
   "cell_type": "markdown",
   "id": "51699302-94a7-4376-a24b-736ea21aea8e",
   "metadata": {},
   "source": [
    "##### Dropping the missing or null values"
   ]
  },
  {
   "cell_type": "code",
   "execution_count": 16,
   "id": "10f55969-fb48-4310-a9ac-a18e290e4571",
   "metadata": {},
   "outputs": [
    {
     "data": {
      "text/html": [
       "<div>\n",
       "<style scoped>\n",
       "    .dataframe tbody tr th:only-of-type {\n",
       "        vertical-align: middle;\n",
       "    }\n",
       "\n",
       "    .dataframe tbody tr th {\n",
       "        vertical-align: top;\n",
       "    }\n",
       "\n",
       "    .dataframe thead th {\n",
       "        text-align: right;\n",
       "    }\n",
       "</style>\n",
       "<table border=\"1\" class=\"dataframe\">\n",
       "  <thead>\n",
       "    <tr style=\"text-align: right;\">\n",
       "      <th></th>\n",
       "      <th>Transaction ID</th>\n",
       "      <th>Date</th>\n",
       "      <th>Customer ID</th>\n",
       "      <th>Gender</th>\n",
       "      <th>Age</th>\n",
       "      <th>Product Category</th>\n",
       "      <th>Quantity</th>\n",
       "      <th>Price per Unit</th>\n",
       "      <th>Total Amount</th>\n",
       "    </tr>\n",
       "  </thead>\n",
       "  <tbody>\n",
       "    <tr>\n",
       "      <th>0</th>\n",
       "      <td>1</td>\n",
       "      <td>2023-11-24</td>\n",
       "      <td>CUST001</td>\n",
       "      <td>Male</td>\n",
       "      <td>34</td>\n",
       "      <td>Beauty</td>\n",
       "      <td>3</td>\n",
       "      <td>50</td>\n",
       "      <td>150</td>\n",
       "    </tr>\n",
       "    <tr>\n",
       "      <th>1</th>\n",
       "      <td>2</td>\n",
       "      <td>2023-02-27</td>\n",
       "      <td>CUST002</td>\n",
       "      <td>Female</td>\n",
       "      <td>26</td>\n",
       "      <td>Clothing</td>\n",
       "      <td>2</td>\n",
       "      <td>500</td>\n",
       "      <td>1000</td>\n",
       "    </tr>\n",
       "    <tr>\n",
       "      <th>2</th>\n",
       "      <td>3</td>\n",
       "      <td>2023-01-13</td>\n",
       "      <td>CUST003</td>\n",
       "      <td>Male</td>\n",
       "      <td>50</td>\n",
       "      <td>Electronics</td>\n",
       "      <td>1</td>\n",
       "      <td>30</td>\n",
       "      <td>30</td>\n",
       "    </tr>\n",
       "    <tr>\n",
       "      <th>3</th>\n",
       "      <td>4</td>\n",
       "      <td>2023-05-21</td>\n",
       "      <td>CUST004</td>\n",
       "      <td>Male</td>\n",
       "      <td>37</td>\n",
       "      <td>Clothing</td>\n",
       "      <td>1</td>\n",
       "      <td>500</td>\n",
       "      <td>500</td>\n",
       "    </tr>\n",
       "    <tr>\n",
       "      <th>4</th>\n",
       "      <td>5</td>\n",
       "      <td>2023-05-06</td>\n",
       "      <td>CUST005</td>\n",
       "      <td>Male</td>\n",
       "      <td>30</td>\n",
       "      <td>Beauty</td>\n",
       "      <td>2</td>\n",
       "      <td>50</td>\n",
       "      <td>100</td>\n",
       "    </tr>\n",
       "    <tr>\n",
       "      <th>...</th>\n",
       "      <td>...</td>\n",
       "      <td>...</td>\n",
       "      <td>...</td>\n",
       "      <td>...</td>\n",
       "      <td>...</td>\n",
       "      <td>...</td>\n",
       "      <td>...</td>\n",
       "      <td>...</td>\n",
       "      <td>...</td>\n",
       "    </tr>\n",
       "    <tr>\n",
       "      <th>995</th>\n",
       "      <td>996</td>\n",
       "      <td>2023-05-16</td>\n",
       "      <td>CUST996</td>\n",
       "      <td>Male</td>\n",
       "      <td>62</td>\n",
       "      <td>Clothing</td>\n",
       "      <td>1</td>\n",
       "      <td>50</td>\n",
       "      <td>50</td>\n",
       "    </tr>\n",
       "    <tr>\n",
       "      <th>996</th>\n",
       "      <td>997</td>\n",
       "      <td>2023-11-17</td>\n",
       "      <td>CUST997</td>\n",
       "      <td>Male</td>\n",
       "      <td>52</td>\n",
       "      <td>Beauty</td>\n",
       "      <td>3</td>\n",
       "      <td>30</td>\n",
       "      <td>90</td>\n",
       "    </tr>\n",
       "    <tr>\n",
       "      <th>997</th>\n",
       "      <td>998</td>\n",
       "      <td>2023-10-29</td>\n",
       "      <td>CUST998</td>\n",
       "      <td>Female</td>\n",
       "      <td>23</td>\n",
       "      <td>Beauty</td>\n",
       "      <td>4</td>\n",
       "      <td>25</td>\n",
       "      <td>100</td>\n",
       "    </tr>\n",
       "    <tr>\n",
       "      <th>998</th>\n",
       "      <td>999</td>\n",
       "      <td>2023-12-05</td>\n",
       "      <td>CUST999</td>\n",
       "      <td>Female</td>\n",
       "      <td>36</td>\n",
       "      <td>Electronics</td>\n",
       "      <td>3</td>\n",
       "      <td>50</td>\n",
       "      <td>150</td>\n",
       "    </tr>\n",
       "    <tr>\n",
       "      <th>999</th>\n",
       "      <td>1000</td>\n",
       "      <td>2023-04-12</td>\n",
       "      <td>CUST1000</td>\n",
       "      <td>Male</td>\n",
       "      <td>47</td>\n",
       "      <td>Electronics</td>\n",
       "      <td>4</td>\n",
       "      <td>30</td>\n",
       "      <td>120</td>\n",
       "    </tr>\n",
       "  </tbody>\n",
       "</table>\n",
       "<p>1000 rows × 9 columns</p>\n",
       "</div>"
      ],
      "text/plain": [
       "     Transaction ID        Date Customer ID  Gender  Age Product Category  \\\n",
       "0                 1  2023-11-24     CUST001    Male   34           Beauty   \n",
       "1                 2  2023-02-27     CUST002  Female   26         Clothing   \n",
       "2                 3  2023-01-13     CUST003    Male   50      Electronics   \n",
       "3                 4  2023-05-21     CUST004    Male   37         Clothing   \n",
       "4                 5  2023-05-06     CUST005    Male   30           Beauty   \n",
       "..              ...         ...         ...     ...  ...              ...   \n",
       "995             996  2023-05-16     CUST996    Male   62         Clothing   \n",
       "996             997  2023-11-17     CUST997    Male   52           Beauty   \n",
       "997             998  2023-10-29     CUST998  Female   23           Beauty   \n",
       "998             999  2023-12-05     CUST999  Female   36      Electronics   \n",
       "999            1000  2023-04-12    CUST1000    Male   47      Electronics   \n",
       "\n",
       "     Quantity  Price per Unit  Total Amount  \n",
       "0           3              50           150  \n",
       "1           2             500          1000  \n",
       "2           1              30            30  \n",
       "3           1             500           500  \n",
       "4           2              50           100  \n",
       "..        ...             ...           ...  \n",
       "995         1              50            50  \n",
       "996         3              30            90  \n",
       "997         4              25           100  \n",
       "998         3              50           150  \n",
       "999         4              30           120  \n",
       "\n",
       "[1000 rows x 9 columns]"
      ]
     },
     "execution_count": 16,
     "metadata": {},
     "output_type": "execute_result"
    }
   ],
   "source": [
    "# Removing Rows with missing values in any column\n",
    "df_cleaned = df.dropna(how = 'any')\n",
    "df_cleaned"
   ]
  },
  {
   "cell_type": "markdown",
   "id": "601d3ebf-7189-4137-a462-9121fee3ea54",
   "metadata": {},
   "source": [
    "##### Detecting Outliers"
   ]
  },
  {
   "cell_type": "code",
   "execution_count": 17,
   "id": "2394627f-62ae-45b1-a5fb-f01bbe55c774",
   "metadata": {},
   "outputs": [],
   "source": [
    "# To understand what visualization works best.i used the following\n",
    "# Reference : https://towardsdatascience.com/how-to-detect-handle-and-visualize-outliers-ad0b74af4af7/\n",
    "#Often outliers can be seen with visualizations using a box plot. Shown below are the box plot of Age, Quantity, Price per Unit and Total Amount\n"
   ]
  },
  {
   "cell_type": "markdown",
   "id": "e6f5abf8-5214-41a5-a1ae-3aa8924c5e22",
   "metadata": {},
   "source": [
    "###### Sales Pattern"
   ]
  },
  {
   "cell_type": "code",
   "execution_count": 27,
   "id": "20acbcea-43d9-46e4-8a38-a24b374b402e",
   "metadata": {
    "jp-MarkdownHeadingCollapsed": true
   },
   "outputs": [
    {
     "name": "stdout",
     "output_type": "stream",
     "text": [
      "     Transaction ID       Date Customer ID  Gender  Age Product Category  \\\n",
      "0                 1 2023-11-24     CUST001    Male   34           Beauty   \n",
      "1                 2 2023-02-27     CUST002  Female   26         Clothing   \n",
      "2                 3 2023-01-13     CUST003    Male   50      Electronics   \n",
      "3                 4 2023-05-21     CUST004    Male   37         Clothing   \n",
      "4                 5 2023-05-06     CUST005    Male   30           Beauty   \n",
      "..              ...        ...         ...     ...  ...              ...   \n",
      "995             996 2023-05-16     CUST996    Male   62         Clothing   \n",
      "996             997 2023-11-17     CUST997    Male   52           Beauty   \n",
      "997             998 2023-10-29     CUST998  Female   23           Beauty   \n",
      "998             999 2023-12-05     CUST999  Female   36      Electronics   \n",
      "999            1000 2023-04-12    CUST1000    Male   47      Electronics   \n",
      "\n",
      "     Quantity  Price per Unit  Total Amount  day  month  year  \n",
      "0           3              50           150   24     11  2023  \n",
      "1           2             500          1000   27      2  2023  \n",
      "2           1              30            30   13      1  2023  \n",
      "3           1             500           500   21      5  2023  \n",
      "4           2              50           100    6      5  2023  \n",
      "..        ...             ...           ...  ...    ...   ...  \n",
      "995         1              50            50   16      5  2023  \n",
      "996         3              30            90   17     11  2023  \n",
      "997         4              25           100   29     10  2023  \n",
      "998         3              50           150    5     12  2023  \n",
      "999         4              30           120   12      4  2023  \n",
      "\n",
      "[1000 rows x 12 columns]\n"
     ]
    }
   ],
   "source": [
    "# Split the date column into date time year seperately\n",
    "df['Date'] = pd.to_datetime(df['Date'])\n",
    "df['day'] = df['Date'].dt.day\n",
    "df['month'] = df['Date'].dt.month\n",
    "df['year'] = df['Date'].dt.year\n",
    "print(df)"
   ]
  },
  {
   "cell_type": "markdown",
   "id": "045ee643-59e1-4691-89a9-cdd5b24f9828",
   "metadata": {},
   "source": []
  },
  {
   "cell_type": "markdown",
   "id": "0e515b82-d8b7-4607-a6f2-8334e55c5fb6",
   "metadata": {},
   "source": [
    "###### Age & Spending  Relationship"
   ]
  },
  {
   "cell_type": "code",
   "execution_count": 19,
   "id": "97d345d8-92a8-4e14-9579-aee5fc6197ae",
   "metadata": {},
   "outputs": [
    {
     "data": {
      "text/plain": [
       "<Axes: xlabel='Age', ylabel='Total Amount'>"
      ]
     },
     "execution_count": 19,
     "metadata": {},
     "output_type": "execute_result"
    },
    {
     "data": {
      "image/png": "[encoded data removed]",
      "text/plain": [
       "<Figure size 1400x600 with 1 Axes>"
      ]
     },
     "metadata": {},
     "output_type": "display_data"
    }
   ],
   "source": [
    "plt.figure(figsize=(14, 6))\n",
    "sns.boxplot(x = df_cleaned['Age'], y= df_cleaned['Total Amount'])"
   ]
  },
  {
   "cell_type": "markdown",
   "id": "d3fb9d5c-bd4b-49aa-b7cf-263af9ed2530",
   "metadata": {},
   "source": [
    "###### Age & Gender vs Purchasing Behavior"
   ]
  },
  {
   "cell_type": "code",
   "execution_count": 20,
   "id": "b7eb1362-29b3-4e65-8733-fc85d53f87a8",
   "metadata": {},
   "outputs": [
    {
     "data": {
      "text/plain": [
       "0      (30, 40]\n",
       "1      (20, 30]\n",
       "2      (40, 50]\n",
       "3      (30, 40]\n",
       "4      (20, 30]\n",
       "         ...   \n",
       "995    (60, 70]\n",
       "996    (50, 60]\n",
       "997    (20, 30]\n",
       "998    (30, 40]\n",
       "999    (40, 50]\n",
       "Name: age_range, Length: 1000, dtype: category\n",
       "Categories (6, interval[int64, right]): [(0, 20] < (20, 30] < (30, 40] < (40, 50] < (50, 60] < (60, 70]]"
      ]
     },
     "execution_count": 20,
     "metadata": {},
     "output_type": "execute_result"
    }
   ],
   "source": [
    "# Create Age bins to make visualization easier\n",
    "bins = [0, 20, 30, 40, 50, 60, 70] # Specifies where cut occurs (moving to age bin)\n",
    "age_groups = ['18-29', '30-39', '40-49', '50-59', '60-69', '70+']\n",
    "df_cleaned['age_range'] = pd.cut(df_cleaned['Age'], bins)\n",
    "df_cleaned['age_range']"
   ]
  },
  {
   "cell_type": "code",
   "execution_count": 21,
   "id": "9e3ffd0b-fea3-4bfc-bb28-8ec0d1a21c55",
   "metadata": {},
   "outputs": [
    {
     "name": "stderr",
     "output_type": "stream",
     "text": [
      "C:\\Users\\aryan\\AppData\\Local\\Temp\\ipykernel_37084\\1195792471.py:2: FutureWarning: The default of observed=False is deprecated and will be changed to True in a future version of pandas. Pass observed=False to retain current behavior or observed=True to adopt the future default and silence this warning.\n",
      "  df_cleaned.groupby(['age_range','Gender','Quantity']).size().unstack().plot(kind='bar', stacked=True)\n"
     ]
    },
    {
     "data": {
      "text/plain": [
       "<Axes: xlabel='age_range,Gender'>"
      ]
     },
     "execution_count": 21,
     "metadata": {},
     "output_type": "execute_result"
    },
    {
     "data": {
      "image/png": "[encoded data removed]",
      "text/plain": [
       "<Figure size 640x480 with 1 Axes>"
      ]
     },
     "metadata": {},
     "output_type": "display_data"
    }
   ],
   "source": [
    "# Purchasing Behavior by Age and Gender (Stacked Bar Chart)\n",
    "df_cleaned.groupby(['age_range','Gender','Quantity']).size().unstack().plot(kind='bar', stacked=True)"
   ]
  },
  {
   "cell_type": "markdown",
   "id": "c133dce0-839b-49d4-9d99-a9f6c770b063",
   "metadata": {},
   "source": [
    "###### Product Prize Distribution within each Category"
   ]
  },
  {
   "cell_type": "code",
   "execution_count": 22,
   "id": "b2907eca-9312-40a6-a925-369f8741a2ab",
   "metadata": {},
   "outputs": [
    {
     "data": {
      "text/plain": [
       "<Axes: xlabel='Product Category'>"
      ]
     },
     "execution_count": 22,
     "metadata": {},
     "output_type": "execute_result"
    },
    {
     "data": {
      "image/png": "[encoded data removed]",
      "text/plain": [
       "<Figure size 640x480 with 1 Axes>"
      ]
     },
     "metadata": {},
     "output_type": "display_data"
    }
   ],
   "source": [
    "# Total Amount Spent for Each Category\n",
    "df_cleaned.groupby(['Product Category','Price per Unit'])['Total Amount'].sum().unstack().plot(kind='bar', stacked=True)\n",
    "# Based on this we notice that for each category, the greatest contribution comes from\n",
    "# units priced at 500 and 300 each"
   ]
  },
  {
   "cell_type": "code",
   "execution_count": 23,
   "id": "89a5d44b-a3bb-49d3-9365-8a697957d7de",
   "metadata": {},
   "outputs": [],
   "source": [
    "# % of total revenue per category\n",
    "#Extracting dataset values for Beauty, Clothing and Electronics\n",
    "df_beauty = df_cleaned.loc[df_cleaned['Product Category']=='Beauty']\n",
    "df_clothing = df_cleaned.loc[df_cleaned['Product Category']=='Clothing']\n",
    "df_electronics = df_cleaned.loc[df_cleaned['Product Category']=='Electronics']\n"
   ]
  },
  {
   "cell_type": "markdown",
   "id": "76d44b84-ee44-426f-9057-f0daace23db9",
   "metadata": {},
   "source": [
    "###### Product Category with the highest Appeal"
   ]
  },
  {
   "cell_type": "code",
   "execution_count": 24,
   "id": "fe03a863-8dc9-4a18-a2df-8d22791a6acd",
   "metadata": {},
   "outputs": [
    {
     "data": {
      "text/plain": [
       "<function matplotlib.pyplot.show(close=None, block=None)>"
      ]
     },
     "execution_count": 24,
     "metadata": {},
     "output_type": "execute_result"
    },
    {
     "data": {
      "image/png": "[encoded data removed]",
      "text/plain": [
       "<Figure size 640x480 with 1 Axes>"
      ]
     },
     "metadata": {},
     "output_type": "display_data"
    }
   ],
   "source": [
    "a = df_beauty['Total Amount'].sum()\n",
    "b = df_clothing['Total Amount'].sum()\n",
    "c = df_electronics['Total Amount'].sum()\n",
    "revenue = [a,b,c]\n",
    "labels = ['beauty','clothing','electronics']\n",
    "myexplode = [0, 0 , 0.2]\n",
    "\n",
    "plt.pie(revenue, labels = labels, autopct='%.1f%%', explode = myexplode)\n",
    "plt.show\n",
    "\n",
    "# We notice that electronics have the greatest contribution to revenue ~34.4%"
   ]
  },
  {
   "cell_type": "code",
   "execution_count": null,
   "id": "78d7be06-2835-4cd2-bc56-505e076dd260",
   "metadata": {},
   "outputs": [],
   "source": []
  }
 ],
 "metadata": {
  "kernelspec": {
   "display_name": "Python 3 (ipykernel)",
   "language": "python",
   "name": "python3"
  },
  "language_info": {
   "codemirror_mode": {
    "name": "ipython",
    "version": 3
   },
   "file_extension": ".py",
   "mimetype": "text/x-python",
   "name": "python",
   "nbconvert_exporter": "python",
   "pygments_lexer": "ipython3",
   "version": "3.12.7"
  }
 },
 "nbformat": 4,
 "nbformat_minor": 5
}
